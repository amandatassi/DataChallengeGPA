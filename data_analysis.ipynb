{
 "cells": [
  {
   "cell_type": "markdown",
   "metadata": {},
   "source": [
    "## Análise dos dados"
   ]
  },
  {
   "attachments": {},
   "cell_type": "markdown",
   "metadata": {},
   "source": [
    "A fonte de dados para o desenvolvimento desse projeto são dois arquivos csv, cada um contendo os dados de sortimento para cada mês do período a ser analisado. "
   ]
  },
  {
   "cell_type": "code",
   "execution_count": 48,
   "metadata": {},
   "outputs": [],
   "source": [
    "# Importando bibliotecas que vão ser utilizadas\n",
    "import pandas as pd\n",
    "import numpy as np"
   ]
  },
  {
   "cell_type": "code",
   "execution_count": 49,
   "metadata": {},
   "outputs": [],
   "source": [
    "# Importando os dados\n",
    "df_maio = pd.read_csv(\"data/maio19.csv\",delimiter=';', encoding='latin1')\n",
    "df_junho = pd.read_csv(\"data/junho19.csv\",delimiter=';', encoding='latin1')"
   ]
  },
  {
   "cell_type": "code",
   "execution_count": 50,
   "metadata": {},
   "outputs": [],
   "source": [
    "# Unificando as bases de dados\n",
    "df_junho.rename(columns={'VENDA BRUTA MENSAL JUNHO': 'VENDA BRUTA MENSAL'}, inplace=True)\n",
    "\n",
    "dataframe = pd.concat([df_maio, df_junho], ignore_index=True)"
   ]
  },
  {
   "cell_type": "code",
   "execution_count": 52,
   "metadata": {},
   "outputs": [],
   "source": [
    "# Renomenado as colunas\n",
    "dataframe.rename(columns={'PLU': 'cod_plu',\n",
    "                          'Loja': 'cod_loja',\n",
    "                          'Região': 'regiao',\n",
    "                          'Nome PLU': 'plu',\n",
    "                          'Nome Depto': 'departamento',\n",
    "                          'Nome Cat': 'categoria',\n",
    "                          'Nome Subcat': 'subcategoria',\n",
    "                          'Nome Loja': 'loja',\n",
    "                          'Mês Referencia': 'mes_ano',\n",
    "                          'Bandeira': 'bandeira',\n",
    "                          'VENDA BRUTA MENSAL': 'venda_bruta'},\n",
    "                    inplace=True)"
   ]
  },
  {
   "attachments": {},
   "cell_type": "markdown",
   "metadata": {},
   "source": [
    "### Tratando os dados"
   ]
  },
  {
   "cell_type": "code",
   "execution_count": 53,
   "metadata": {},
   "outputs": [
    {
     "name": "stdout",
     "output_type": "stream",
     "text": [
      "<class 'pandas.core.frame.DataFrame'>\n",
      "RangeIndex: 44691 entries, 0 to 44690\n",
      "Data columns (total 11 columns):\n",
      " #   Column        Non-Null Count  Dtype \n",
      "---  ------        --------------  ----- \n",
      " 0   cod_plu       44691 non-null  int64 \n",
      " 1   cod_loja      44691 non-null  int64 \n",
      " 2   regiao        44691 non-null  object\n",
      " 3   plu           44691 non-null  object\n",
      " 4   departamento  44691 non-null  object\n",
      " 5   categoria     44691 non-null  object\n",
      " 6   subcategoria  44691 non-null  object\n",
      " 7   loja          44691 non-null  object\n",
      " 8   mes_ano       44691 non-null  object\n",
      " 9   bandeira      44691 non-null  object\n",
      " 10  venda_bruta   44691 non-null  object\n",
      "dtypes: int64(2), object(9)\n",
      "memory usage: 3.8+ MB\n"
     ]
    }
   ],
   "source": [
    "dataframe.info()"
   ]
  },
  {
   "cell_type": "code",
   "execution_count": 54,
   "metadata": {},
   "outputs": [],
   "source": [
    "# Separando a coluna ano e mês em duas novas colunas\n",
    "dataframe.mes_ano = pd.to_datetime(dataframe.mes_ano)\n",
    "dataframe['ano'] = dataframe.mes_ano.dt.year\n",
    "dataframe['mes'] = dataframe.mes_ano.dt.month_name()\n",
    "\n",
    "# Renomeando os nomes dos meses\n",
    "dataframe.mes.replace({'May': 'Maio', 'June': 'Junho'}, inplace=True)"
   ]
  },
  {
   "attachments": {},
   "cell_type": "markdown",
   "metadata": {},
   "source": [
    "#### Tratando valores de venda bruta"
   ]
  },
  {
   "cell_type": "code",
   "execution_count": 55,
   "metadata": {},
   "outputs": [],
   "source": [
    "# Tratando valores de venda bruta\n",
    "dataframe['venda_bruta_original'] = dataframe.venda_bruta\n",
    "\n",
    "for index in dataframe.index:\n",
    "    valor = str(dataframe.loc[index,  'venda_bruta'])\n",
    "\n",
    "    if '.' in valor or ',' in valor:\n",
    "\n",
    "        dataframe.loc[index,  'venda_bruta'] = valor.replace('.', '').replace(',', '.')\n",
    "\n",
    "dataframe['venda_bruta'] = pd.to_numeric(dataframe.venda_bruta, errors='coerce')"
   ]
  },
  {
   "cell_type": "code",
   "execution_count": 56,
   "metadata": {},
   "outputs": [
    {
     "name": "stdout",
     "output_type": "stream",
     "text": [
      "9745 linhas com valores faltantes, o equivalente a 21.81% da base de dados\n"
     ]
    }
   ],
   "source": [
    "subset = dataframe.shape[0]\n",
    "subset_missing_values = dataframe.loc[dataframe.venda_bruta.isna()].shape[0]\n",
    "\n",
    "print(\"{} linhas com valores faltantes, o equivalente a {:.2f}% da base de dados\".format(subset_missing_values, (subset_missing_values/subset)*100))"
   ]
  },
  {
   "cell_type": "code",
   "execution_count": 57,
   "metadata": {},
   "outputs": [
    {
     "data": {
      "text/plain": [
       " -       9745\n",
       "Name: venda_bruta_original, dtype: int64"
      ]
     },
     "execution_count": 57,
     "metadata": {},
     "output_type": "execute_result"
    }
   ],
   "source": [
    "dataframe.venda_bruta_original.loc[dataframe.venda_bruta.isna()].value_counts()"
   ]
  },
  {
   "cell_type": "code",
   "execution_count": 58,
   "metadata": {},
   "outputs": [],
   "source": [
    "dataframe.venda_bruta.fillna(0, inplace=True)"
   ]
  },
  {
   "cell_type": "code",
   "execution_count": 59,
   "metadata": {},
   "outputs": [
    {
     "data": {
      "text/plain": [
       "-16     1\n",
       "-22     1\n",
       "-101    1\n",
       "-1      1\n",
       "-24     1\n",
       "Name: venda_bruta_original, dtype: int64"
      ]
     },
     "execution_count": 59,
     "metadata": {},
     "output_type": "execute_result"
    }
   ],
   "source": [
    "dataframe.venda_bruta_original.loc[dataframe.venda_bruta < 0].value_counts()"
   ]
  },
  {
   "cell_type": "code",
   "execution_count": 60,
   "metadata": {},
   "outputs": [
    {
     "name": "stdout",
     "output_type": "stream",
     "text": [
      "5 linhas com valores faltantes, o equivalente a 0.01% da base de dados\n"
     ]
    }
   ],
   "source": [
    "subset = dataframe.shape[0]\n",
    "subset_missing_values = dataframe.loc[dataframe.venda_bruta < 0].shape[0]\n",
    "\n",
    "print(\"{} linhas com valores faltantes, o equivalente a {:.2f}% da base de dados\".format(subset_missing_values, (subset_missing_values/subset)*100))"
   ]
  },
  {
   "cell_type": "code",
   "execution_count": 61,
   "metadata": {},
   "outputs": [],
   "source": [
    "dataframe = dataframe.drop(index=dataframe[dataframe['venda_bruta'] < 0].index)\n"
   ]
  },
  {
   "attachments": {},
   "cell_type": "markdown",
   "metadata": {},
   "source": [
    "Após tratar os valores de venda bruta, convertendo esses dados para números decimais, foi obtido uma quantidade significante de valores faltantes que representava 21,81% da base de dados. Analisando os valores originais antes do tratamento, foi verificado que o valor de venda para esses itens estava preenchido com \"-\".<BR>\n",
    "Como estamos analisando dados referentes a venda mensal desses produtos, a partir do dado preenchido originalmente pode-se inferir que ao invés desse problema representar falta de informação, ele representa que o valor de venda bruta mensal desses produtos é R$ 0,00.<BR>\n",
    "<BR>\n",
    "Os dados de venda bruta, também continham valores negativos, esses dados representavam 0.01% da base. Existe as hipóteses desses valores serem resultados de erros de registro e lançamento dos dados, ou também de que os valores negativos representem devoluções de compras. No entanto, devido a incapacidade de investigar o motivo para tal preenchimento da informação e considerando que o total desses dados sujos possuem pouca expressividade em relação a base, foi decidido remover esses dados para evitar análises enviesadas."
   ]
  },
  {
   "attachments": {},
   "cell_type": "markdown",
   "metadata": {},
   "source": [
    "### Entendendo os dados presentes nos outros campos"
   ]
  },
  {
   "cell_type": "code",
   "execution_count": 62,
   "metadata": {},
   "outputs": [
    {
     "data": {
      "text/plain": [
       "array(['PERECIVEIS', 'MERCEARIA', 'BAZAR', 'MUNDO FARMACIA', 'TEXTIL',\n",
       "       'ELETRO-ELETRONICOS'], dtype=object)"
      ]
     },
     "execution_count": 62,
     "metadata": {},
     "output_type": "execute_result"
    }
   ],
   "source": [
    "dataframe.departamento.unique()"
   ]
  },
  {
   "cell_type": "code",
   "execution_count": 63,
   "metadata": {},
   "outputs": [
    {
     "data": {
      "text/plain": [
       "array(['PADARIA E ROTISSERIE', 'CARNES', 'PEREC COMPLEMENTAR', 'PEIXARIA',\n",
       "       'FLV', 'PERFUMARIA', 'LIQUIDA', 'MERC COMPLEMENTAR',\n",
       "       'ARRUMACAO E FVM', 'LIMPEZA/DESCARTAVEIS', 'CASA', 'PET E JARDIM',\n",
       "       'MERCEARIA BASICA', 'CULTURA', 'DROGARIAS', 'CAMEBA', 'TELEFONIA',\n",
       "       'MOVEIS E DECORACAO', 'ACESSORIOS / SOFTWAR'], dtype=object)"
      ]
     },
     "execution_count": 63,
     "metadata": {},
     "output_type": "execute_result"
    }
   ],
   "source": [
    "dataframe.categoria.unique()"
   ]
  },
  {
   "cell_type": "code",
   "execution_count": 64,
   "metadata": {},
   "outputs": [
    {
     "data": {
      "text/plain": [
       "array(['PADARIA', 'BOVINOS', 'SUINOS E OUTROS', 'QUEIJOS', 'AVES',\n",
       "       'QUEIJOS MANIPULADOS', 'ROTISSERIE', 'PEIXES FRESCOS',\n",
       "       'FOLHAGENS E PROCESS', 'FRIOS MANIPULADOS', 'FRUTAS',\n",
       "       'SALGADOS E DEFUMADOS', 'LEGUMES', 'BACALHAU', 'PEIXES CONGELADOS',\n",
       "       'CAFE/LANCHONETE', 'CUIDADO COM CORPO', 'NAO ALCOOLICOS',\n",
       "       'DOCES E SOBREMESAS', 'FACA VOCE MESMO', 'VINHOS',\n",
       "       'DESCART HIGIENICOS', 'DESCART CASA FESTA', 'BOMBONIERE',\n",
       "       'BISCOITOS E TORRADAS', 'CEREAIS E SAUDAVEIS', 'LIMPEZA',\n",
       "       'REFRIGERANTES', 'PADARIA INDUSTRIALI', 'ARTES DA MESA', 'PET',\n",
       "       'HIGIENE ORAL', 'GRAOS E FARINACEOS', 'CAFE',\n",
       "       'CHURRASCO E ARMAZEN', 'MASSAS SECAS', 'FRIOS',\n",
       "       'LATICINIOS E MASSAS', 'ALCOOLICOS', 'CUIDADO COM ROSTO',\n",
       "       'MERCEARIA SALGADA', 'SALGADINHOS/APERIT', 'LACTEOS E ACHOCOLAT',\n",
       "       'UTENSILIOS LIMPEZA', 'ARROZ E FEIJAO', 'COZINHAR E ASSAR',\n",
       "       'OLEOS E AZEITES', 'LIVROS REVISTAS NAC', 'CIGARROS', 'ARRUMACAO',\n",
       "       'SOBREMESAS CONGELAD', 'ACUCAR', 'CUIDADO COM CABELO', 'CERVEJAS',\n",
       "       'CONGELADOS SALGADOS', 'IOGURTES', 'CORRELATOS DROGARIA',\n",
       "       'JARDINAGEM', 'NUTRICAO INFANTIL', 'LEITE LONGA VIDA', 'SAZONAIS',\n",
       "       'CAMA', 'TELEFONIA CELULAR', 'OTC', 'DECORACAO BAZAR', 'MESA',\n",
       "       'ACESSORIOS'], dtype=object)"
      ]
     },
     "execution_count": 64,
     "metadata": {},
     "output_type": "execute_result"
    }
   ],
   "source": [
    "dataframe.subcategoria.unique()"
   ]
  },
  {
   "cell_type": "code",
   "execution_count": 65,
   "metadata": {},
   "outputs": [
    {
     "data": {
      "text/plain": [
       "array(['PA'], dtype=object)"
      ]
     },
     "execution_count": 65,
     "metadata": {},
     "output_type": "execute_result"
    }
   ],
   "source": [
    "dataframe.bandeira.unique()"
   ]
  },
  {
   "cell_type": "code",
   "execution_count": 66,
   "metadata": {},
   "outputs": [
    {
     "data": {
      "text/plain": [
       "22960"
      ]
     },
     "execution_count": 66,
     "metadata": {},
     "output_type": "execute_result"
    }
   ],
   "source": [
    "lista_plu = dataframe.plu.unique().tolist()\n",
    "lista_plu.sort()\n",
    "len(lista_plu)"
   ]
  },
  {
   "attachments": {},
   "cell_type": "markdown",
   "metadata": {},
   "source": [
    "### Exportando arquivos para serem utilizados no PowerBI"
   ]
  },
  {
   "cell_type": "code",
   "execution_count": 70,
   "metadata": {},
   "outputs": [],
   "source": [
    "# Exportando a base completa de sortimentos \n",
    "dataframe.drop(columns='venda_bruta_original', inplace=True)\n",
    "\n",
    "dataframe.to_excel(\"data/base_sortimentos.xlsx\", index=False)"
   ]
  },
  {
   "cell_type": "code",
   "execution_count": 115,
   "metadata": {},
   "outputs": [],
   "source": [
    "# Criando arquivo auxiliar para calcular as entradas e saídas de sortimento no período\n",
    "df_count_junho = dataframe[['mes', 'departamento', 'categoria', 'cod_plu']].groupby(['mes', 'departamento', 'categoria']).count().query(\"mes == 'Junho'\").reset_index().rename(columns={'cod_plu': 'count_junho'})\n",
    "df_count_maio = dataframe[['mes', 'departamento', 'categoria', 'cod_plu']].groupby(['mes', 'departamento', 'categoria']).count().query(\"mes == 'Maio'\").reset_index().rename(columns={'cod_plu': 'count_maio'})\n",
    "\n",
    "df_count = pd.merge(df_count_maio, df_count_junho, how='inner', left_on=['departamento', 'categoria'], right_on = ['departamento', 'categoria'])\n",
    "\n",
    "df_count['diferenca'] = df_count.count_junho - df_count.count_maio\n",
    "\n",
    "df_count.loc[df_count.diferenca < 0, 'qtde_saidas'] = df_count.diferenca * -1\n",
    "df_count.loc[df_count.diferenca > 0, 'qtde_entradas'] = df_count.diferenca\n",
    "\n",
    "df_count.to_excel(\"data/periodos_diff_sortimentos.xlsx\", index=False)\n"
   ]
  },
  {
   "cell_type": "code",
   "execution_count": 120,
   "metadata": {},
   "outputs": [],
   "source": [
    "# Criando arquivo auxiliar para calcular as categorias em aumento ou regressão de vendas\n",
    "df_sum_junho = dataframe[['mes', 'categoria', 'venda_bruta']].groupby(['mes',  'categoria']).sum().query(\"mes == 'Junho'\").reset_index().rename(columns={'venda_bruta': 'venda_bruta_junho'})\n",
    "df_sum_maio = dataframe[['mes', 'categoria', 'venda_bruta']].groupby(['mes',  'categoria']).sum().query(\"mes == 'Maio'\").reset_index().rename(columns={'venda_bruta': 'venda_bruta_maio'})\n",
    "\n",
    "df_sum = pd.merge(df_sum_maio, df_sum_junho, how='inner', left_on=['categoria'], right_on = ['categoria'])\n",
    "\n",
    "df_sum['diferenca'] = df_sum.venda_bruta_junho - df_sum.venda_bruta_maio\n",
    "\n",
    "df_sum.loc[df_sum.diferenca < 0, 'tendencia_periodo'] = 'Regressão'\n",
    "df_sum.loc[df_sum.diferenca > 0, 'tendencia_periodo'] = 'Aumento'\n",
    "\n",
    "df_sum['categoria'].loc[df_sum.tendencia_periodo == 'Regressão']\n",
    "\n",
    "dataframe.loc[dataframe.categoria == 'CASA', 'tendencia_periodo'] = 'Regressão'\n",
    "dataframe.loc[dataframe.categoria == 'CULTURA', 'tendencia_periodo'] = 'Regressão'\n",
    "dataframe.loc[dataframe.categoria == 'FLV', 'tendencia_periodo'] = 'Regressão'\n",
    "dataframe.loc[dataframe.categoria == 'MOVEIS E DECORACAO', 'tendencia_periodo'] = 'Regressão'\n",
    "dataframe.loc[dataframe.categoria == 'PEIXARIA', 'tendencia_periodo'] = 'Regressão'\n",
    "\n",
    "dataframe.tendencia_periodo.fillna('Aumento', inplace=True)\n",
    "\n",
    "dataframe.to_excel(\"data/base_sortimentos_tendencia.xlsx\", index=False)"
   ]
  }
 ],
 "metadata": {
  "kernelspec": {
   "display_name": "Python 3",
   "language": "python",
   "name": "python3"
  },
  "language_info": {
   "codemirror_mode": {
    "name": "ipython",
    "version": 3
   },
   "file_extension": ".py",
   "mimetype": "text/x-python",
   "name": "python",
   "nbconvert_exporter": "python",
   "pygments_lexer": "ipython3",
   "version": "3.11.1"
  },
  "orig_nbformat": 4,
  "vscode": {
   "interpreter": {
    "hash": "08a90a01b600f746e0415be63edd1dad183ab55496046984e165be014582f14e"
   }
  }
 },
 "nbformat": 4,
 "nbformat_minor": 2
}
